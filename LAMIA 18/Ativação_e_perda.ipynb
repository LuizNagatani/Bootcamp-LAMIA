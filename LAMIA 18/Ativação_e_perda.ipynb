{
  "nbformat": 4,
  "nbformat_minor": 0,
  "metadata": {
    "colab": {
      "provenance": []
    },
    "kernelspec": {
      "name": "python3",
      "display_name": "Python 3"
    },
    "language_info": {
      "name": "python"
    }
  },
  "cells": [
    {
      "cell_type": "code",
      "execution_count": null,
      "metadata": {
        "id": "U66y0zMd43a4"
      },
      "outputs": [],
      "source": [
        "import math\n",
        "import torch"
      ]
    },
    {
      "cell_type": "code",
      "source": [
        "def sigmoid(x): #função de ativação sigmoide\n",
        "    return 1 / (1 + math.exp(-x))"
      ],
      "metadata": {
        "id": "53IN9Xid5AJ1"
      },
      "execution_count": null,
      "outputs": []
    },
    {
      "cell_type": "code",
      "source": [
        "class ReLU(torch.nn.Module): #função de ativação RELU\n",
        "    def __init__(self):\n",
        "        super().__init__()\n",
        "\n",
        "    def forward(self, x):\n",
        "        return torch.max(torch.zeros_like(x), x)"
      ],
      "metadata": {
        "id": "q4HD-84W5E9V"
      },
      "execution_count": null,
      "outputs": []
    },
    {
      "cell_type": "code",
      "source": [
        "import numpy as np\n",
        "\n",
        "def mse_loss(y_true, y_pred):\n",
        "    return np.mean((y_true - y_pred)**2)"
      ],
      "metadata": {
        "id": "yU9T1ScE5SnL"
      },
      "execution_count": null,
      "outputs": []
    },
    {
      "cell_type": "code",
      "source": [
        "i\n",
        "\n",
        "def cross_entropy_loss(y_true, y_pred):\n",
        "    epsilon = 1e-15\n",
        "    y_pred = np.clip(y_pred, epsilon, 1. - epsilon)\n",
        "    return -np.mean(y_true * np.log(y_pred) + (1 - y_true) * np.log(1 - y_pred))"
      ],
      "metadata": {
        "id": "T5XCUpzO5Vhi"
      },
      "execution_count": null,
      "outputs": []
    }
  ]
}