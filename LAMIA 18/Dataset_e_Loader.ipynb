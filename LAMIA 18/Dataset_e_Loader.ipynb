{
  "nbformat": 4,
  "nbformat_minor": 0,
  "metadata": {
    "colab": {
      "provenance": []
    },
    "kernelspec": {
      "name": "python3",
      "display_name": "Python 3"
    },
    "language_info": {
      "name": "python"
    }
  },
  "cells": [
    {
      "cell_type": "code",
      "execution_count": null,
      "metadata": {
        "id": "8I1sUGmB6iZ5"
      },
      "outputs": [],
      "source": [
        "from torch.utils.data import Dataset, DataLoader\n",
        "import torch\n",
        "import torch.nn as nn"
      ]
    },
    {
      "cell_type": "code",
      "source": [
        "x = [[1,2],[3,4],[5,6],[7,8]]\n",
        "y = [[3],[7],[11],[15]]"
      ],
      "metadata": {
        "id": "uZyfHEqj6pVB"
      },
      "execution_count": null,
      "outputs": []
    },
    {
      "cell_type": "code",
      "source": [
        "X = torch.tensor(x).float()\n",
        "Y = torch.tensor(y).float()"
      ],
      "metadata": {
        "id": "RcjVvR8Y6qiX"
      },
      "execution_count": null,
      "outputs": []
    },
    {
      "cell_type": "code",
      "source": [
        "device = 'cuda' if torch.cuda.is_available() else 'cpu'\n",
        "X = X.to(device)\n",
        "Y = Y.to(device)"
      ],
      "metadata": {
        "id": "XL2Ss3wC6rtP"
      },
      "execution_count": null,
      "outputs": []
    },
    {
      "cell_type": "code",
      "source": [
        "class MyDataset(Dataset):\n",
        "  def __init__(self,x,y):\n",
        "    self.x = torch.tensor(x).float().to(device)\n",
        "    self.y = torch.tensor(y).float().to(device)\n",
        "  def __len__(self):\n",
        "    return len(self.x)\n",
        "  def __getitem__(self,ix):\n",
        "    return self.x[ix], self.y[ix]"
      ],
      "metadata": {
        "id": "TlCHverC6tS2"
      },
      "execution_count": null,
      "outputs": []
    },
    {
      "cell_type": "code",
      "source": [
        "ds = MyDataset(x,y)"
      ],
      "metadata": {
        "id": "r-C-wK_h6uVf"
      },
      "execution_count": null,
      "outputs": []
    },
    {
      "cell_type": "code",
      "source": [
        "#percorre o dataset fornecido, embaralhando os componentes, fornecendo dados para serem utilizandos no treinamento com base no dataset\n",
        "dl = DataLoader(ds, batch_size=2, shuffle=True)\n",
        "\n",
        "for x,y in dl:\n",
        "  print(x,y)"
      ],
      "metadata": {
        "colab": {
          "base_uri": "https://localhost:8080/"
        },
        "id": "D2aFYFMK6y8u",
        "outputId": "d33685de-25f0-4057-a0ca-c93e9cd3da24"
      },
      "execution_count": null,
      "outputs": [
        {
          "output_type": "stream",
          "name": "stdout",
          "text": [
            "tensor([[7., 8.],\n",
            "        [5., 6.]]) tensor([[15.],\n",
            "        [11.]])\n",
            "tensor([[3., 4.],\n",
            "        [1., 2.]]) tensor([[7.],\n",
            "        [3.]])\n"
          ]
        }
      ]
    },
    {
      "cell_type": "code",
      "source": [
        "import torch\n",
        "import torch.nn as nn\n",
        "from torch.optim import SGD"
      ],
      "metadata": {
        "id": "GhwhfPEG62N-"
      },
      "execution_count": null,
      "outputs": []
    },
    {
      "cell_type": "code",
      "source": [
        "class MyNeuralNet(nn.Module):\n",
        "  def __init__(self):\n",
        "\n",
        "    super().__init__()\n",
        "    self.layer1 = nn.Linear(2,8)\n",
        "    self.activation = nn.ReLU()\n",
        "    self.layer2 =  nn.Linear(8,1)\n",
        "\n",
        "  #\n",
        "  def forward(self,x):\n",
        "    x = self.layer1(x)\n",
        "    x = self.activation(x)\n",
        "    x = self.layer2(x)\n",
        "    return x"
      ],
      "metadata": {
        "id": "ogTxZo2J65DF"
      },
      "execution_count": null,
      "outputs": []
    },
    {
      "cell_type": "code",
      "source": [
        "model = MyNeuralNet()\n",
        "loss_func = nn.MSELoss()\n",
        "opt = SGD(model.parameters(), lr = 0.001)"
      ],
      "metadata": {
        "id": "0urWxth_67ul"
      },
      "execution_count": null,
      "outputs": []
    },
    {
      "cell_type": "code",
      "source": [
        "losses = []\n",
        "for _ in range(50):\n",
        "  for data in dl:\n",
        "    opt.zero_grad()\n",
        "    x1, y1 = data\n",
        "    loss_value = loss_func(model(x1),y1)\n",
        "    loss_value.backward()\n",
        "    opt.step()\n",
        "    losses.append(loss_value.detach().numpy())"
      ],
      "metadata": {
        "id": "vkYrktTG6-LF"
      },
      "execution_count": null,
      "outputs": []
    }
  ]
}