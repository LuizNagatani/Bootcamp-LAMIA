{
 "cells": [
  {
   "cell_type": "code",
   "execution_count": 1,
   "metadata": {
    "id": "TIz4NDhoX_ER"
   },
   "outputs": [],
   "source": [
    "import matplotlib.pyplot as plt\n",
    "from keras.datasets import mnist\n",
    "from keras.models import Sequential\n",
    "from keras.layers import Dense, Flatten, Conv2D, MaxPooling2D, Dropout\n",
    "from keras.utils import to_categorical\n",
    "from keras.src.layers.normalization.batch_normalization import BatchNormalization\n",
    "from keras.preprocessing import image\n",
    "import numpy as np\n",
    "\n",
    "(X_train, y_train), (X_test, y_test) = mnist.load_data()"
   ]
  },
  {
   "cell_type": "code",
   "execution_count": 2,
   "metadata": {
    "colab": {
     "base_uri": "https://localhost:8080/",
     "height": 469
    },
    "id": "t6LdIHzpYgik",
    "outputId": "129b20ed-c3d2-4838-b3af-cac458cd6405"
   },
   "outputs": [
    {
     "data": {
      "text/plain": [
       "Text(0.5, 1.0, 'Classe 5')"
      ]
     },
     "execution_count": 2,
     "metadata": {},
     "output_type": "execute_result"
    },
    {
     "data": {
      "image/png": "[encoded data removed]",
      "text/plain": [
       "<Figure size 640x480 with 1 Axes>"
      ]
     },
     "metadata": {},
     "output_type": "display_data"
    }
   ],
   "source": [
    "plt.imshow(X_train[0], cmap = 'gray')\n",
    "plt.title('Classe ' + str(y_train[0]))"
   ]
  },
  {
   "cell_type": "code",
   "execution_count": 3,
   "metadata": {
    "id": "RboeWT7LbTkQ"
   },
   "outputs": [],
   "source": [
    "prev_train = X_train.reshape(X_train.shape[0], 28, 28, 1)\n",
    "prev_test = X_test.reshape(X_test.shape[0], 28, 28, 1)\n",
    "prev_train = prev_train.astype('float32')\n",
    "prev_test = prev_test.astype('float32')"
   ]
  },
  {
   "cell_type": "code",
   "execution_count": 36,
   "metadata": {
    "id": "MTMJPpGWcm9w"
   },
   "outputs": [],
   "source": [
    "prev_train /= 255\n",
    "prev_test /= 255\n",
    "\n",
    "clas_train = to_categorical(y_train, 10)\n",
    "clas_test = to_categorical(y_test, 10)"
   ]
  },
  {
   "cell_type": "code",
   "execution_count": 46,
   "metadata": {
    "id": "BqkLwa8PdTPH"
   },
   "outputs": [],
   "source": [
    "clas = Sequential()\n",
    "clas.add(Conv2D(32, (3,3), input_shape = (28, 28, 1), activation = 'relu'))\n",
    "clas.add(BatchNormalization())\n",
    "clas.add(MaxPooling2D(pool_size =(2, 2), padding = 'same'))\n",
    "clas.add(Conv2D(32, (3,3), activation = 'relu'))\n",
    "clas.add(BatchNormalization())\n",
    "clas.add(MaxPooling2D(pool_size =(2, 2), padding = 'same'))\n",
    "clas.add(Flatten())\n",
    "\n"
   ]
  },
  {
   "cell_type": "code",
   "execution_count": 47,
   "metadata": {
    "id": "H65UTFpec7UH"
   },
   "outputs": [],
   "source": [
    "\n",
    "clas.add(Dense(units = 128, activation = 'relu'))\n",
    "clas.add(Dropout(0.2))\n",
    "clas.add(Dense(units=128,activation = 'relu'))\n",
    "clas.add(Dropout(0.2))\n",
    "clas.add(Dense(units = 10, activation = 'softmax'))\n",
    "clas.compile(loss = 'categorical_crossentropy', optimizer = 'adam', metrics = ['accuracy'])"
   ]
  },
  {
   "cell_type": "code",
   "execution_count": 48,
   "metadata": {
    "colab": {
     "base_uri": "https://localhost:8080/"
    },
    "id": "yqgFm5B-i2IP",
    "outputId": "e473ac5f-5799-4c8b-d197-20131a4a0df5"
   },
   "outputs": [
    {
     "name": "stdout",
     "output_type": "stream",
     "text": [
      "Epoch 1/5\n",
      "\u001b[1m469/469\u001b[0m \u001b[32m━━━━━━━━━━━━━━━━━━━━\u001b[0m\u001b[37m\u001b[0m \u001b[1m37s\u001b[0m 62ms/step - accuracy: 0.8320 - loss: 0.5295 - val_accuracy: 0.7121 - val_loss: 1.1967\n",
      "Epoch 2/5\n",
      "\u001b[1m469/469\u001b[0m \u001b[32m━━━━━━━━━━━━━━━━━━━━\u001b[0m\u001b[37m\u001b[0m \u001b[1m27s\u001b[0m 56ms/step - accuracy: 0.9773 - loss: 0.0739 - val_accuracy: 0.5161 - val_loss: 3.0325\n",
      "Epoch 3/5\n",
      "\u001b[1m469/469\u001b[0m \u001b[32m━━━━━━━━━━━━━━━━━━━━\u001b[0m\u001b[37m\u001b[0m \u001b[1m26s\u001b[0m 56ms/step - accuracy: 0.9848 - loss: 0.0481 - val_accuracy: 0.9589 - val_loss: 0.1268\n",
      "Epoch 4/5\n",
      "\u001b[1m469/469\u001b[0m \u001b[32m━━━━━━━━━━━━━━━━━━━━\u001b[0m\u001b[37m\u001b[0m \u001b[1m23s\u001b[0m 49ms/step - accuracy: 0.9880 - loss: 0.0372 - val_accuracy: 0.9659 - val_loss: 0.1142\n",
      "Epoch 5/5\n",
      "\u001b[1m469/469\u001b[0m \u001b[32m━━━━━━━━━━━━━━━━━━━━\u001b[0m\u001b[37m\u001b[0m \u001b[1m23s\u001b[0m 49ms/step - accuracy: 0.9897 - loss: 0.0314 - val_accuracy: 0.9622 - val_loss: 0.1386\n"
     ]
    },
    {
     "data": {
      "text/plain": [
       "<keras.src.callbacks.history.History at 0x24b86dc6450>"
      ]
     },
     "execution_count": 48,
     "metadata": {},
     "output_type": "execute_result"
    }
   ],
   "source": [
    "clas.fit(prev_train, clas_train, batch_size = 128, epochs = 5, validation_data=(prev_test, clas_test))"
   ]
  },
  {
   "cell_type": "code",
   "execution_count": 69,
   "metadata": {
    "colab": {
     "base_uri": "https://localhost:8080/"
    },
    "id": "AB5ZEgpSkgYA",
    "outputId": "df0fcd60-ef0f-4f14-840b-b414b616a9bf"
   },
   "outputs": [
    {
     "name": "stdout",
     "output_type": "stream",
     "text": [
      "\u001b[1m313/313\u001b[0m \u001b[32m━━━━━━━━━━━━━━━━━━━━\u001b[0m\u001b[37m\u001b[0m \u001b[1m1s\u001b[0m 3ms/step - accuracy: 0.9559 - loss: 0.1679\n"
     ]
    },
    {
     "data": {
      "text/plain": [
       "[0.13860248029232025, 0.9621999859809875]"
      ]
     },
     "execution_count": 69,
     "metadata": {},
     "output_type": "execute_result"
    }
   ],
   "source": [
    "resul = clas.evaluate(prev_test, clas_test)\n",
    "resul"
   ]
  },
  {
   "cell_type": "code",
   "execution_count": 77,
   "metadata": {},
   "outputs": [],
   "source": [
    "imagem = image.load_img('numero.jpeg').convert('L')\n",
    "imagem = imagem.resize((28,28))\n",
    "\n"
   ]
  },
  {
   "cell_type": "code",
   "execution_count": 78,
   "metadata": {},
   "outputs": [],
   "source": [
    "imagem = image.img_to_array(imagem)\n",
    "imagem /= 255\n",
    "imagem =np.expand_dims(imagem, axis=0)"
   ]
  },
  {
   "cell_type": "code",
   "execution_count": 79,
   "metadata": {},
   "outputs": [
    {
     "name": "stdout",
     "output_type": "stream",
     "text": [
      "\u001b[1m1/1\u001b[0m \u001b[32m━━━━━━━━━━━━━━━━━━━━\u001b[0m\u001b[37m\u001b[0m \u001b[1m0s\u001b[0m 33ms/step\n"
     ]
    },
    {
     "data": {
      "text/plain": [
       "8"
      ]
     },
     "execution_count": 79,
     "metadata": {},
     "output_type": "execute_result"
    }
   ],
   "source": [
    "prev = clas.predict(imagem)\n",
    "resul = np.argmax(prev)\n",
    "resul"
   ]
  }
 ],
 "metadata": {
  "colab": {
   "provenance": []
  },
  "kernelspec": {
   "display_name": "Python 3 (ipykernel)",
   "language": "python",
   "name": "python3"
  },
  "language_info": {
   "codemirror_mode": {
    "name": "ipython",
    "version": 3
   },
   "file_extension": ".py",
   "mimetype": "text/x-python",
   "name": "python",
   "nbconvert_exporter": "python",
   "pygments_lexer": "ipython3",
   "version": "3.11.9"
  }
 },
 "nbformat": 4,
 "nbformat_minor": 4
}
